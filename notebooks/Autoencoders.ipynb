{
 "cells": [
  {
   "cell_type": "markdown",
   "metadata": {},
   "source": [
    "# Simple Autoencoder\n",
    "- Autoencoder mnist\n",
    "    - Encoder: tự làm nhưng dùng kỹ thuật của mobilenet\n",
    "            - sep depthwise\n",
    "            - skip-connection with inverted bottleneck\n",
    "    - Global-pool + flatten +linear -> vector z\n",
    "    - View (-1 , dims, 1, 1)\n",
    "- Decoder: simple upsampling+conv & no skip connection\n",
    "- Học được: trick tính mse theo batch thay vì theo pixel\n"
   ]
  },
  {
   "cell_type": "code",
   "execution_count": 1,
   "metadata": {},
   "outputs": [
    {
     "name": "stdout",
     "output_type": "stream",
     "text": [
      "/workspace/DeepVisualization\n"
     ]
    }
   ],
   "source": [
    "%cd \"../\""
   ]
  },
  {
   "cell_type": "code",
   "execution_count": 2,
   "metadata": {},
   "outputs": [],
   "source": [
    "import torch\n",
    "import torch.nn as nn\n",
    "from torch.utils.data import DataLoader\n",
    "from torchvision import datasets"
   ]
  },
  {
   "cell_type": "code",
   "execution_count": 3,
   "metadata": {},
   "outputs": [],
   "source": [
    "def prepare_data(batch_size, num_workers):\n",
    "    train_dataset = datasets.MNIST(root='dataset', train=True, download=True)\n",
    "    test_dataset = datasets.MNIST(root='dataset', train=True)\n",
    "    \n",
    "    train_loader = DataLoader(dataset=train_dataset, batch_size=batch_size, \n",
    "                              num_workers=num_workers, shuffle=True)\n",
    "    \n",
    "    test_loader = DataLoader(dataset=test_dataset, batch_size=batch_size, \n",
    "                             num_workers=num_workers, shuffle=True)\n",
    "    \n",
    "    return train_loader, test_loader"
   ]
  },
  {
   "cell_type": "code",
   "execution_count": 28,
   "metadata": {},
   "outputs": [],
   "source": [
    "class DepthWise(nn.Module):\n",
    "    def __init__(self, in_channels, kernel_size, stride):\n",
    "        super().__init__()\n",
    "        padding = (kernel_size - 1) // 2\n",
    "        self.conv = nn.Conv2d(\n",
    "            in_channels=in_channels, \n",
    "            out_channels=in_channels, \n",
    "            kernel_size=kernel_size,\n",
    "            stride=stride, \n",
    "            groups=in_channels, \n",
    "            padding=padding,\n",
    "            bias=False,\n",
    "        )\n",
    "        self.bn = nn.BatchNorm2d(num_features=in_channels)\n",
    "        self.relu = nn.ReLU6(inplace=True)\n",
    "        \n",
    "    def forward(self, x):\n",
    "        return self.relu(self.bn(self.conv(x)))\n",
    "\n",
    "class PointWise(nn.Module):\n",
    "    def __init__(self, in_channels, out_channels, use_relu=False):\n",
    "        super().__init__()\n",
    "        self.use_relu = use_relu\n",
    "        self.conv_1x1 = nn.Conv2d(\n",
    "            in_channels=in_channels, \n",
    "            out_channels=out_channels, \n",
    "            kernel_size=1,\n",
    "            stride=1,\n",
    "            padding=0,\n",
    "            bias=False,\n",
    "        )\n",
    "        self.bn = nn.BatchNorm2d(num_features=out_channels)\n",
    "        if self.use_relu:\n",
    "            self.relu = nn.ReLU6(inplace=True)\n",
    "        \n",
    "    def forward(self, x):\n",
    "        x = self.bn(self.conv_1x1(x))\n",
    "        return self.relu(x) if self.use_relu else x"
   ]
  },
  {
   "cell_type": "code",
   "execution_count": 38,
   "metadata": {},
   "outputs": [],
   "source": [
    "class InvertedResidual(nn.Module):\n",
    "    def __init__(self, in_channels, out_channels, expand_ratio, stride, downsample):\n",
    "        super().__init__()\n",
    "        hidden_dim = int(round(in_channels * expand_ratio))\n",
    "        self.downsample = downsample\n",
    "        self.conv1 = PointWise(\n",
    "            in_channels=in_channels,\n",
    "            out_channels=hidden_dim,\n",
    "            use_relu=True,\n",
    "        )\n",
    "        \n",
    "        self.conv2 = DepthWise(\n",
    "            in_channels=hidden_dim,\n",
    "            kernel_size=3,\n",
    "            stride=stride,\n",
    "        )\n",
    "        \n",
    "        self.conv3 = PointWise(\n",
    "            in_channels=hidden_dim,\n",
    "            out_channels=out_channels,\n",
    "            use_relu=False,\n",
    "        )\n",
    "        \n",
    "    def forward(self, x):\n",
    "        residual = x\n",
    "        x = self.conv3(self.conv2(self.conv1(x)))\n",
    "        return self.downsample(residual) + x if self.downsample is not None else x\n",
    "    \n",
    "class ResBlock(nn.Module):\n",
    "    def __init__(self, in_channels, out_channels, expand_ratio):\n",
    "        super().__init__()\n",
    "        downsample = nn.Conv2d(in_channels=in_channels, \n",
    "                               out_channels=out_channels, \n",
    "                               kernel_size=1, stride=2, bias=False)\n",
    "        \n",
    "        self.unit1 = InvertedResidual(in_channels=in_channels, \n",
    "                                      out_channels=out_channels, \n",
    "                                      expand_ratio=expand_ratio, \n",
    "                                      stride=2, downsample=downsample)\n",
    "        \n",
    "        self.unit2 = InvertedResidual(in_channels=out_channels, \n",
    "                                      out_channels=out_channels, \n",
    "                                      expand_ratio=expand_ratio, \n",
    "                                      stride=1, downsample=None)\n",
    "    \n",
    "    def forward(self, x):\n",
    "        x = self.unit1(x)\n",
    "        x = self.unit2(x)\n",
    "        return x\n",
    "        \n",
    "\n",
    "class Encoder(nn.Module):\n",
    "    def __init__(self):\n",
    "        super().__init__()\n",
    "        self.block1 = ResBlock(in_channels=32, out_channels=64, expand_ratio=2)\n",
    "        self.block2= ResBlock(in_channels=64, out_channels=128, expand_ratio=2)\n",
    "        \n",
    "    def _make_blocks(self):\n",
    "        pass\n",
    "    \n",
    "    def forward(self, x):\n",
    "        x = self.block1(x)\n",
    "        x = self.block2(x)\n",
    "        return x\n",
    "    \n",
    "class Decoder(nn.Module):\n",
    "    def __init__(self):\n",
    "        super().__init__()\n",
    "        \n",
    "    def forward(self, x):\n",
    "        pass\n",
    "    \n",
    "class Model(nn.Module):\n",
    "    def __init__(self):\n",
    "        super().__init__()\n",
    "        self.conv = nn.Conv2D\n",
    "        self.encoder = Encoder()\n",
    "    \n",
    "    def forward(self, x):\n",
    "        x = self.encoder(x)\n",
    "        return x"
   ]
  },
  {
   "cell_type": "code",
   "execution_count": 39,
   "metadata": {},
   "outputs": [
    {
     "data": {
      "text/plain": [
       "torch.Size([12, 128, 7, 7])"
      ]
     },
     "execution_count": 39,
     "metadata": {},
     "output_type": "execute_result"
    }
   ],
   "source": [
    "model = Model()\n",
    "x = torch.randn(12, 32, 28, 28)\n",
    "y = model(x)\n",
    "y.shape"
   ]
  }
 ],
 "metadata": {
  "kernelspec": {
   "display_name": "Python 3",
   "language": "python",
   "name": "python3"
  },
  "language_info": {
   "codemirror_mode": {
    "name": "ipython",
    "version": 3
   },
   "file_extension": ".py",
   "mimetype": "text/x-python",
   "name": "python",
   "nbconvert_exporter": "python",
   "pygments_lexer": "ipython3",
   "version": "3.10.12"
  }
 },
 "nbformat": 4,
 "nbformat_minor": 2
}
