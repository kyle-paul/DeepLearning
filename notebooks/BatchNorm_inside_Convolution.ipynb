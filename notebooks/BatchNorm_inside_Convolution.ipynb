{
  "nbformat": 4,
  "nbformat_minor": 0,
  "metadata": {
    "colab": {
      "provenance": [],
      "toc_visible": true
    },
    "kernelspec": {
      "name": "python3",
      "display_name": "Python 3"
    },
    "language_info": {
      "name": "python"
    }
  },
  "cells": [
    {
      "cell_type": "markdown",
      "source": [
        "## Cách BatchNorm hoạt động\n",
        "Cho input $X \\in \\mathbb{R}^{B \\times C \\times H \\times W}$ với $B,C,H,W$ lần lượt là batch size, channels, height, width. Khi đưa qua BatchNorm, thì $\\text{BN}(X)$ được tính bằng cách: \\\\\n",
        "- Khởi tạo vector $\\mu$ (mean) và $v$ (variance) theo phân phối chuẩn:\n",
        "$$\n",
        "\\mu, v\\in \\mathbb{R}^C \\space | \\space  \\mu_i=0, v_i=1 \\space | \\space \\forall \\mu_i \\in \\mu, \\forall v_i \\in v\n",
        "$$\n",
        "\n",
        "- Sau đó $X$ sẽ được biến đối trong không gian bằng 2 phép $\\text{normalize}$ và $\\text{scale+shift}$\n",
        "\n",
        "$$\n",
        "X_{\\text{norm}} = \\frac{X - \\mu}{\\sqrt{v + \\epsilon}} \\\\\n",
        "X_{\\text{new}} = X_{\\text{norm}} \\gamma + \\beta\n",
        "$$\n",
        "\n",
        "- Trong đó epsilon $\\epsilon$ được khởi tạo $=1e^{-5}$ và $\\gamma, \\beta \\in R^C$ hay là vector shape là $(1, C, 1, 1)$. Hay từng feature $X_{\\text{new}}[:,i:,:]$ trong $X$ được tính:\n",
        "\n",
        "$$\n",
        "X^{\\text{new}}_{[:,i:,:]} =  \\frac{X_{[:,i,:,:]} - \\mu_i}{\\sqrt{v + \\epsilon}} \\gamma + \\beta_i\n",
        "$$\n",
        "\n",
        "## BatchNorm kết hợp Convolution\n",
        "Như ta đã biết, tổ hợp phổ biến trong computer vision là $\\text{Conv-Relu-BatchNorm}$. BatchNorm diễn ra sau Convolution (ví dụ bỏ qua ReLU) thì làm sao ta kết hợp bước Conv-BatchNorm trong lúc inference để tính toán nhanh hơn.  Gọi $X \\in \\mathbb{R}^{B, C_{in}, H, W}$ là ma trận đầu vào $W \\in \\mathbb{W}^{C_{out}, C_{in}, K, K}$ là ma trận trọng số để thực hiện phép convolution và ma trận kết quả là $Y = X * W + b \\space | \\space Y \\in \\mathbb{R}^{B, C_{out}, H', W'}$ với $*$ là phép convolution và $b$ là bias.\n",
        "\n",
        "$$\n",
        "\\text{BN}(Y, \\mu, v, \\gamma, \\beta) = (Y - \\mu) \\frac{\\gamma}{\\sqrt{v + \\epsilon}} + \\beta \\\\\n",
        "= (X * W + b - \\mu) \\frac{\\gamma}{\\sqrt{v + \\epsilon}}. \\\\\n",
        "= X * (W \\frac{\\gamma}{\\sqrt{v + \\epsilon}}) + \\frac{\\gamma}{\\sqrt{v + \\epsilon}} (b - \\mu) + \\beta\n",
        "= X * W' + b'\n",
        "$$\n",
        "\n",
        "Vậy ma trận trọng số mới là $W' = W \\frac{\\gamma}{\\sqrt{v + \\epsilon}}$ và bias mới là $b'= \\frac{\\gamma}{\\sqrt{v + \\epsilon}} (b - \\mu) + \\beta$. \\\\\n",
        "Nhưng ở đây ta cần phải lưu ý thêm về chiều khi nhần vào của $W'_{[i,:,:,:]} = \\frac{\\gamma_i}{\\sqrt{v_i + \\epsilon}} W_{[i,:,:,:]}$. Đây là lý do ta phải reshape các vector $\\gamma, v \\in (1, C_{out}, 1, 1)$ thành $(C_{out}), 1, 1, 1)$ trước khi nhân."
      ],
      "metadata": {
        "id": "dHkwg690hl3D"
      }
    },
    {
      "cell_type": "code",
      "source": [
        "import torch\n",
        "import torch.nn as nn\n",
        "import torch.nn.functional as F"
      ],
      "metadata": {
        "id": "mdvRLZm5qieM"
      },
      "execution_count": 3,
      "outputs": []
    },
    {
      "cell_type": "code",
      "source": [
        "class BatchNorm(nn.Module):\n",
        "    def __init__(self, num_features, eps=0, momentum=0.1, training_mode=False):\n",
        "        super().__init__()\n",
        "\n",
        "        self.training_mode = training_mode\n",
        "        self.momentum = 0.1\n",
        "        self.eps = eps\n",
        "\n",
        "        # trainable parameters\n",
        "        self.gamma = nn.Parameter(torch.ones(1, num_features, 1, 1))\n",
        "        self.beta = nn.Parameter(torch.zeros(1, num_features, 1, 1))\n",
        "\n",
        "        # running mean & variance\n",
        "        self.r_mean = torch.zeros(1, num_features, 1, 1)\n",
        "        self.r_var = torch.ones(1, num_features, 1, 1)\n",
        "\n",
        "    def forward(self, x):\n",
        "        if self.training_mode:\n",
        "            x_mean = x.mean([0, 2, 3], keepdim=True)\n",
        "            x_var = x.var([0, 2, 3], keepdim=True, unbiased=False)\n",
        "\n",
        "            # Update running mean and variance\n",
        "            self.r_mean = (1 - self.momentum) * self.r_mean + self.momentum * x_mean\n",
        "            self.r_var = (1 - self.momentum) * self.r_var + self.momentum * x_var\n",
        "\n",
        "        else:\n",
        "            x_mean = self.r_mean\n",
        "            x_var = self.r_var\n",
        "\n",
        "        x_norm = (x - x_mean) / torch.sqrt(x_var + self.eps)         # Normalize\n",
        "        x_out = x_norm * self.gamma + self.beta                      # Scale and Shift\n",
        "        return x_out"
      ],
      "metadata": {
        "id": "67d_eY8en851"
      },
      "execution_count": 4,
      "outputs": []
    },
    {
      "cell_type": "code",
      "source": [
        "# Khởi tạo ma trận X, trọng số W và bias b\n",
        "X = torch.randn(12, 32, 224, 224)\n",
        "W = torch.randn(64, 32, 3, 3)\n",
        "b = torch.randn(64)"
      ],
      "metadata": {
        "id": "Uns33XNtqh6f"
      },
      "execution_count": 7,
      "outputs": []
    },
    {
      "cell_type": "code",
      "source": [
        "Y = F.conv2d(X, W, b, stride=1, padding=1)\n",
        "bn = BatchNorm(64)\n",
        "Z = bn(Y)"
      ],
      "metadata": {
        "id": "daBT_yRZqrFC"
      },
      "execution_count": 8,
      "outputs": []
    },
    {
      "cell_type": "code",
      "source": [
        "# Reshap trước khi nhân\n",
        "gamma = bn.gamma.view(64, 1, 1, 1)\n",
        "var = bn.r_var.view(64, 1, 1, 1)\n",
        "mean = bn.r_mean.view(64, 1, 1, 1)\n",
        "beta = bn.beta.view(64, 1, 1, 1)\n",
        "eps = bn.eps"
      ],
      "metadata": {
        "id": "7zLWzQPwq6sc"
      },
      "execution_count": 9,
      "outputs": []
    },
    {
      "cell_type": "code",
      "source": [
        "W_ = W * (gamma / torch.sqrt(var + eps))\n",
        "b_ = (gamma / torch.sqrt(var + eps)) * (b.view(64, 1, 1, 1) - mean) + beta\n",
        "b_ = b_.squeeze()\n",
        "\n",
        "Z_ = F.conv2d(X, W_, b_, stride=1, padding=1)"
      ],
      "metadata": {
        "id": "Om7-Kjwaq83V"
      },
      "execution_count": 10,
      "outputs": []
    },
    {
      "cell_type": "code",
      "source": [
        "# Kiểm tra\n",
        "print(Z[2,10,56,56])\n",
        "print(Z_[2,10,56,56])"
      ],
      "metadata": {
        "colab": {
          "base_uri": "https://localhost:8080/"
        },
        "id": "hQ7wC_wLsFXc",
        "outputId": "16bebe09-598b-444d-a1f3-ebe476a78f84"
      },
      "execution_count": 11,
      "outputs": [
        {
          "output_type": "stream",
          "name": "stdout",
          "text": [
            "tensor(-26.9973, grad_fn=<SelectBackward0>)\n",
            "tensor(-26.9973, grad_fn=<SelectBackward0>)\n"
          ]
        }
      ]
    }
  ]
}