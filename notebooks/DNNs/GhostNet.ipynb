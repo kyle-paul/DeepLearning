{
 "cells": [
  {
   "cell_type": "markdown",
   "metadata": {},
   "source": [
    "# GhostNet\n",
    "<img src=\"https://i.ibb.co/THWKjn7/image.png\" alt=\"image\" border=\"0\">"
   ]
  }
 ],
 "metadata": {
  "language_info": {
   "name": "python"
  }
 },
 "nbformat": 4,
 "nbformat_minor": 2
}
