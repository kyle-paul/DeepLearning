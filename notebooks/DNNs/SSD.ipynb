{
 "cells": [
  {
   "cell_type": "code",
   "execution_count": null,
   "metadata": {},
   "outputs": [],
   "source": [
    "%cd \"/workspace/DeepLearning\""
   ]
  },
  {
   "cell_type": "code",
   "execution_count": 18,
   "metadata": {},
   "outputs": [],
   "source": [
    "\n",
    "import torch\n",
    "import torch.nn as nn\n",
    "from torchvision import models, transforms\n",
    "from PIL import Image\n",
    "import cv2\n",
    "import numpy as np"
   ]
  },
  {
   "cell_type": "code",
   "execution_count": null,
   "metadata": {},
   "outputs": [],
   "source": [
    "model = models.detection.ssd300_vgg16(weights=\"SSD300_VGG16_Weights.COCO_V1\")\n",
    "model.eval()"
   ]
  },
  {
   "cell_type": "code",
   "execution_count": 19,
   "metadata": {},
   "outputs": [
    {
     "name": "stdout",
     "output_type": "stream",
     "text": [
      "dict_keys(['boxes', 'scores', 'labels'])\n"
     ]
    }
   ],
   "source": [
    "image = Image.open('./samples/giraffe.jpg').resize((300, 300))\n",
    "img = np.array(image)\n",
    "transform = transforms.Compose([\n",
    "    transforms.Resize((300, 300)),\n",
    "    transforms.ToTensor()\n",
    "])\n",
    "\n",
    "image = transform(image)\n",
    "\n",
    "\n",
    "with torch.inference_mode():\n",
    "    logits = model([image])\n",
    "    print(logits[0].keys())\n",
    "    bbox, scores, labels = logits[0]['boxes'], logits[0]['scores'], logits[0]['labels']\n",
    "    nums = torch.argwhere(scores > 0.80)"
   ]
  },
  {
   "cell_type": "code",
   "execution_count": 20,
   "metadata": {},
   "outputs": [
    {
     "name": "stdout",
     "output_type": "stream",
     "text": [
      "torch.Size([1, 1])\n",
      "torch.Size([200, 4])\n",
      "torch.Size([200])\n",
      "torch.Size([200])\n"
     ]
    }
   ],
   "source": [
    "print(nums.shape)\n",
    "print(bbox.shape)\n",
    "print(scores.shape)\n",
    "print(labels.shape)"
   ]
  },
  {
   "cell_type": "code",
   "execution_count": 21,
   "metadata": {},
   "outputs": [
    {
     "data": {
      "text/plain": [
       "1"
      ]
     },
     "execution_count": 21,
     "metadata": {},
     "output_type": "execute_result"
    }
   ],
   "source": [
    "nums = nums.shape[0]\n",
    "nums"
   ]
  },
  {
   "cell_type": "code",
   "execution_count": 25,
   "metadata": {},
   "outputs": [
    {
     "name": "stdout",
     "output_type": "stream",
     "text": [
      "tensor([0.9805, 0.0734, 0.0596, 0.0589, 0.0588, 0.0485, 0.0479, 0.0479, 0.0474,\n",
      "        0.0451, 0.0434, 0.0427, 0.0391, 0.0383, 0.0377, 0.0363, 0.0355, 0.0347,\n",
      "        0.0340, 0.0337, 0.0333, 0.0333, 0.0332, 0.0328, 0.0322, 0.0321, 0.0320,\n",
      "        0.0319, 0.0318, 0.0317, 0.0311, 0.0309, 0.0305, 0.0304, 0.0303, 0.0302,\n",
      "        0.0301, 0.0300, 0.0299, 0.0295, 0.0292, 0.0292, 0.0290, 0.0287, 0.0285,\n",
      "        0.0283, 0.0282, 0.0281, 0.0277, 0.0276, 0.0273, 0.0271, 0.0271, 0.0271,\n",
      "        0.0269, 0.0269, 0.0268, 0.0264, 0.0263, 0.0260, 0.0259, 0.0256, 0.0255,\n",
      "        0.0255, 0.0254, 0.0253, 0.0253, 0.0251, 0.0250, 0.0250, 0.0249, 0.0249,\n",
      "        0.0249, 0.0249, 0.0248, 0.0248, 0.0246, 0.0245, 0.0244, 0.0244, 0.0242,\n",
      "        0.0241, 0.0240, 0.0238, 0.0237, 0.0236, 0.0236, 0.0235, 0.0233, 0.0230,\n",
      "        0.0229, 0.0226, 0.0225, 0.0224, 0.0224, 0.0224, 0.0222, 0.0221, 0.0219,\n",
      "        0.0219, 0.0218, 0.0218, 0.0215, 0.0215, 0.0215, 0.0215, 0.0214, 0.0213,\n",
      "        0.0213, 0.0213, 0.0213, 0.0212, 0.0212, 0.0212, 0.0211, 0.0211, 0.0208,\n",
      "        0.0208, 0.0203, 0.0202, 0.0201, 0.0200, 0.0198, 0.0196, 0.0195, 0.0194,\n",
      "        0.0188, 0.0188, 0.0185, 0.0185, 0.0184, 0.0184, 0.0182, 0.0180, 0.0179,\n",
      "        0.0179, 0.0178, 0.0178, 0.0177, 0.0176, 0.0175, 0.0175, 0.0174, 0.0172,\n",
      "        0.0170, 0.0170, 0.0169, 0.0167, 0.0166, 0.0163, 0.0163, 0.0161, 0.0160,\n",
      "        0.0160, 0.0159, 0.0158, 0.0158, 0.0158, 0.0157, 0.0157, 0.0157, 0.0156,\n",
      "        0.0154, 0.0154, 0.0153, 0.0153, 0.0153, 0.0153, 0.0153, 0.0151, 0.0151,\n",
      "        0.0150, 0.0149, 0.0149, 0.0149, 0.0148, 0.0148, 0.0148, 0.0147, 0.0146,\n",
      "        0.0146, 0.0145, 0.0145, 0.0145, 0.0144, 0.0142, 0.0141, 0.0141, 0.0141,\n",
      "        0.0141, 0.0141, 0.0140, 0.0140, 0.0140, 0.0139, 0.0139, 0.0139, 0.0139,\n",
      "        0.0138, 0.0138])\n"
     ]
    }
   ],
   "source": [
    "print(scores)"
   ]
  },
  {
   "cell_type": "code",
   "execution_count": null,
   "metadata": {},
   "outputs": [],
   "source": [
    "for i in range(nums):\n",
    "    x, y, w, h = bbox[i].numpy().astype('int')\n",
    "    print(x, y, w, h)\n",
    "    cv2.rectangle(img, (x,y), (w,h), (0,0,255), 1)\n",
    "    \n",
    "cv2.imwrite('frame.png', img)"
   ]
  }
 ],
 "metadata": {
  "kernelspec": {
   "display_name": "Python 3",
   "language": "python",
   "name": "python3"
  },
  "language_info": {
   "codemirror_mode": {
    "name": "ipython",
    "version": 3
   },
   "file_extension": ".py",
   "mimetype": "text/x-python",
   "name": "python",
   "nbconvert_exporter": "python",
   "pygments_lexer": "ipython3",
   "version": "3.10.12"
  }
 },
 "nbformat": 4,
 "nbformat_minor": 2
}
